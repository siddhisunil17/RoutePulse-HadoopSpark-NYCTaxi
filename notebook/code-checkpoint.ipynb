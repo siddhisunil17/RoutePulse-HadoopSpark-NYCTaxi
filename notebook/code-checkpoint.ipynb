{
 "cells": [
  {
   "cell_type": "code",
   "execution_count": 2,
   "id": "12d4a6f4-8a7d-47ef-bd57-aa044fa4c7cd",
   "metadata": {},
   "outputs": [],
   "source": [
    "from pyspark.sql import SparkSession\n",
    "from pyspark.sql.functions import size, array_max, array_min, udf\n",
    "from pyspark.ml.functions import vector_to_array\n",
    "from pyspark.sql.functions import size\n",
    "from pyspark.ml.feature import VectorAssembler, StandardScaler\n",
    "from pyspark.ml.linalg import Vectors, VectorUDT\n",
    "from pyspark.ml.functions import vector_to_array\n",
    "from pyspark.ml.classification import NaiveBayes, LogisticRegression\n",
    "from pyspark.ml.tuning import CrossValidator, ParamGridBuilder\n",
    "from pyspark.ml.evaluation import BinaryClassificationEvaluator, MulticlassClassificationEvaluator, ClusteringEvaluator\n",
    "from sklearn.metrics import confusion_matrix, ConfusionMatrixDisplay\n",
    "from sklearn.preprocessing import StandardScaler\n",
    "from sklearn.cluster import DBSCAN\n",
    "from pyspark.sql.functions import col, hour, dayofweek, when, count, mean, stddev,to_date\n",
    "import matplotlib.pyplot as plt\n",
    "import seaborn as sns\n",
    "import numpy as np\n"
   ]
  },
  {
   "cell_type": "code",
   "execution_count": 3,
   "id": "c58944f5-19a7-45c0-b940-21d760865586",
   "metadata": {},
   "outputs": [
    {
     "name": "stderr",
     "output_type": "stream",
     "text": [
      "Setting default log level to \"WARN\".\n",
      "To adjust logging level use sc.setLogLevel(newLevel). For SparkR, use setLogLevel(newLevel).\n",
      "25/04/28 23:02:27 WARN NativeCodeLoader: Unable to load native-hadoop library for your platform... using builtin-java classes where applicable\n",
      "25/04/28 23:02:27 WARN Utils: Service 'SparkUI' could not bind on port 4040. Attempting port 4041.\n"
     ]
    },
    {
     "data": {
      "text/html": [
       "\n",
       "            <div>\n",
       "                <p><b>SparkSession - in-memory</b></p>\n",
       "                \n",
       "        <div>\n",
       "            <p><b>SparkContext</b></p>\n",
       "\n",
       "            <p><a href=\"http://mac-1281.lan:4041\">Spark UI</a></p>\n",
       "\n",
       "            <dl>\n",
       "              <dt>Version</dt>\n",
       "                <dd><code>v3.5.5</code></dd>\n",
       "              <dt>Master</dt>\n",
       "                <dd><code>local[*]</code></dd>\n",
       "              <dt>AppName</dt>\n",
       "                <dd><code>NYC_Taxi_Analysis</code></dd>\n",
       "            </dl>\n",
       "        </div>\n",
       "        \n",
       "            </div>\n",
       "        "
      ],
      "text/plain": [
       "<pyspark.sql.session.SparkSession at 0x17676e4e0>"
      ]
     },
     "execution_count": 3,
     "metadata": {},
     "output_type": "execute_result"
    }
   ],
   "source": [
    "spark = SparkSession.builder \\\n",
    "    .appName(\"NYC_Taxi_Analysis\") \\\n",
    "    .getOrCreate()\n",
    "\n",
    "spark"
   ]
  },
  {
   "cell_type": "code",
   "execution_count": 4,
   "id": "bc15162b-b5d6-449d-83b2-23a780693523",
   "metadata": {},
   "outputs": [
    {
     "name": "stderr",
     "output_type": "stream",
     "text": [
      "                                                                                \r"
     ]
    }
   ],
   "source": [
    "data = spark.read.csv(\n",
    "    \"taxi_2024_dec.csv\",  \n",
    "    header=True,\n",
    "    inferSchema=True\n",
    ")"
   ]
  },
  {
   "cell_type": "code",
   "execution_count": 5,
   "id": "c6c4b628-576b-4e99-b56e-b5c70227bfa6",
   "metadata": {},
   "outputs": [
    {
     "name": "stdout",
     "output_type": "stream",
     "text": [
      "root\n",
      " |-- VendorID: integer (nullable = true)\n",
      " |-- tpep_pickup_datetime: timestamp (nullable = true)\n",
      " |-- tpep_dropoff_datetime: timestamp (nullable = true)\n",
      " |-- passenger_count: string (nullable = true)\n",
      " |-- trip_distance: double (nullable = true)\n",
      " |-- RatecodeID: string (nullable = true)\n",
      " |-- store_and_fwd_flag: string (nullable = true)\n",
      " |-- PULocationID: integer (nullable = true)\n",
      " |-- DOLocationID: integer (nullable = true)\n",
      " |-- payment_type: integer (nullable = true)\n",
      " |-- fare_amount: double (nullable = true)\n",
      " |-- extra: double (nullable = true)\n",
      " |-- mta_tax: double (nullable = true)\n",
      " |-- tip_amount: double (nullable = true)\n",
      " |-- tolls_amount: double (nullable = true)\n",
      " |-- improvement_surcharge: double (nullable = true)\n",
      " |-- total_amount: double (nullable = true)\n",
      " |-- congestion_surcharge: string (nullable = true)\n",
      " |-- Airport_fee: string (nullable = true)\n",
      "\n"
     ]
    }
   ],
   "source": [
    "data.printSchema()"
   ]
  },
  {
   "cell_type": "code",
   "execution_count": 6,
   "id": "9b9bd2be-0189-4676-b512-b72d15785ab7",
   "metadata": {},
   "outputs": [
    {
     "name": "stdout",
     "output_type": "stream",
     "text": [
      "+--------+--------------------+---------------------+---------------+-------------+----------+------------------+------------+------------+------------+-----------+-----+-------+----------+------------+---------------------+------------+--------------------+-----------+\n",
      "|VendorID|tpep_pickup_datetime|tpep_dropoff_datetime|passenger_count|trip_distance|RatecodeID|store_and_fwd_flag|PULocationID|DOLocationID|payment_type|fare_amount|extra|mta_tax|tip_amount|tolls_amount|improvement_surcharge|total_amount|congestion_surcharge|Airport_fee|\n",
      "+--------+--------------------+---------------------+---------------+-------------+----------+------------------+------------+------------+------------+-----------+-----+-------+----------+------------+---------------------+------------+--------------------+-----------+\n",
      "|       2| 2024-12-01 00:12:27|  2024-12-01 00:31:12|              1|         9.76|         1|                 N|         138|          33|           1|       38.0|  6.0|    0.5|      4.72|         0.0|                  1.0|       51.97|                   0|       1.75|\n",
      "|       2| 2024-11-30 23:56:04|  2024-12-01 00:28:15|              1|         7.62|         1|                 N|         158|          42|           1|       37.3|  1.0|    0.5|      8.46|         0.0|                  1.0|       50.76|                 2.5|          0|\n",
      "|       2| 2024-12-01 00:50:35|  2024-12-01 01:24:46|              4|        20.07|         2|                 N|         132|         236|           2|       70.0|  0.0|    0.5|       0.0|        6.94|                  1.0|       82.69|                 2.5|       1.75|\n",
      "|       2| 2024-12-01 00:18:16|  2024-12-01 00:33:16|              3|         2.34|         1|                 N|         142|         186|           1|       15.6|  1.0|    0.5|      4.12|         0.0|                  1.0|       24.72|                 2.5|          0|\n",
      "|       2| 2024-12-01 00:56:13|  2024-12-01 01:18:25|              1|         5.05|         1|                 N|         107|          80|           1|       26.8|  1.0|    0.5|       5.0|         0.0|                  1.0|        36.8|                 2.5|          0|\n",
      "|       1| 2024-12-01 00:21:17|  2024-12-01 00:37:22|              1|          4.3|         1|                 N|         249|         141|           1|       20.5|  3.5|    0.5|       5.1|         0.0|                  1.0|        30.6|                 2.5|          0|\n",
      "|       2| 2024-12-01 00:04:53|  2024-12-01 00:31:03|              1|         7.66|         1|                 N|         186|          52|           1|       35.2|  1.0|    0.5|      8.04|         0.0|                  1.0|       48.24|                 2.5|          0|\n",
      "|       1| 2024-12-01 00:15:28|  2024-12-01 00:20:13|              1|          0.3|         1|                 N|         148|         148|           3|        5.8|  3.5|    0.5|       0.0|         0.0|                  1.0|        10.8|                 2.5|          0|\n",
      "|       1| 2024-12-01 00:38:54|  2024-12-01 01:03:46|              1|          9.4|         1|                 N|         234|         244|           1|       39.4|  3.5|    0.5|       0.0|         0.0|                  1.0|        44.4|                 2.5|          0|\n",
      "|       2| 2024-12-01 00:00:21|  2024-12-01 00:05:27|              2|         0.72|         1|                 N|         211|         231|           1|        7.2|  1.0|    0.5|      2.44|         0.0|                  1.0|       14.64|                 2.5|          0|\n",
      "|       2| 2024-12-01 00:07:13|  2024-12-01 00:20:57|              2|         3.54|         1|                 N|         231|          48|           1|       17.7|  1.0|    0.5|      4.54|         0.0|                  1.0|       27.24|                 2.5|          0|\n",
      "|       2| 2024-12-01 00:34:04|  2024-12-01 00:44:33|              1|         1.38|         1|                 N|          68|         137|           1|       10.7|  1.0|    0.5|       3.0|         0.0|                  1.0|        18.7|                 2.5|          0|\n",
      "|       2| 2024-12-01 00:57:27|  2024-12-01 01:00:44|              2|         0.45|         1|                 N|         230|         162|           2|        5.1|  1.0|    0.5|       0.0|         0.0|                  1.0|        10.1|                 2.5|          0|\n",
      "|       1| 2024-12-01 00:02:07|  2024-12-01 00:19:36|              3|          2.7|         1|                 N|         100|         239|           1|       17.7|  3.5|    0.5|       4.5|         0.0|                  1.0|        27.2|                 2.5|          0|\n",
      "|       2| 2024-12-01 00:07:12|  2024-12-01 00:07:25|              1|         0.03|         1|                 N|         262|         262|           4|       -3.0| -1.0|   -0.5|       0.0|         0.0|                 -1.0|        -8.0|                -2.5|          0|\n",
      "|       2| 2024-12-01 00:07:12|  2024-12-01 00:07:25|              1|         0.03|         1|                 N|         262|         140|           4|        3.0|  1.0|    0.5|       0.0|         0.0|                  1.0|         8.0|                 2.5|          0|\n",
      "|       2| 2024-12-01 00:30:37|  2024-12-01 00:33:50|              1|         0.48|         1|                 N|         237|         236|           1|        5.1|  1.0|    0.5|      2.02|         0.0|                  1.0|       12.12|                 2.5|          0|\n",
      "|       2| 2024-12-01 00:43:15|  2024-12-01 00:59:01|              1|         1.77|         1|                 N|         113|         249|           1|       14.9|  1.0|    0.5|       1.0|         0.0|                  1.0|        20.9|                 2.5|          0|\n",
      "|       1| 2024-12-01 00:03:22|  2024-12-01 00:16:23|              1|          2.1|         1|                 N|         142|         141|           1|       14.2|  3.5|    0.5|      1.92|         0.0|                  1.0|       21.12|                 2.5|          0|\n",
      "|       1| 2024-12-01 00:24:46|  2024-12-01 00:27:10|              1|          0.6|         1|                 N|         263|         263|           1|        5.1|  3.5|    0.5|      2.02|         0.0|                  1.0|       12.12|                 2.5|          0|\n",
      "|       1| 2024-12-01 00:32:28|  2024-12-01 00:42:57|              1|          1.8|         1|                 N|         140|         163|           2|       12.1|  3.5|    0.5|       0.0|         0.0|                  1.0|        17.1|                 2.5|          0|\n",
      "|       1| 2024-12-01 00:52:52|  2024-12-01 01:01:09|              1|          2.6|         1|                 N|         142|          41|           1|       12.8|  3.5|    0.5|       2.2|         0.0|                  1.0|        20.0|                 2.5|          0|\n",
      "|       2| 2024-12-01 00:34:13|  2024-12-01 00:43:19|              1|         1.99|         1|                 N|          79|         170|           1|       11.4|  1.0|    0.5|      3.28|         0.0|                  1.0|       19.68|                 2.5|          0|\n",
      "|       2| 2024-12-01 00:18:14|  2024-12-01 00:34:17|              1|         2.04|         1|                 N|         186|         107|           1|       15.6|  1.0|    0.5|      4.12|         0.0|                  1.0|       24.72|                 2.5|          0|\n",
      "|       2| 2024-12-01 00:45:43|  2024-12-01 01:03:11|              1|         4.84|         1|                 N|         237|         152|           1|       21.9|  1.0|    0.5|      6.72|         0.0|                  1.0|       33.62|                 2.5|          0|\n",
      "|       2| 2024-12-01 00:14:44|  2024-12-01 00:25:39|              2|         1.11|         1|                 N|         249|          79|           1|       10.7|  1.0|    0.5|      3.14|         0.0|                  1.0|       18.84|                 2.5|          0|\n",
      "|       2| 2024-12-01 00:47:21|  2024-12-01 00:51:54|              2|          0.6|         1|                 N|         249|         249|           1|        6.5|  1.0|    0.5|       1.0|         0.0|                  1.0|        12.5|                 2.5|          0|\n",
      "|       2| 2024-11-30 23:58:25|  2024-12-01 00:02:44|              1|         0.78|         1|                 N|         237|         162|           1|        6.5|  1.0|    0.5|       1.0|         0.0|                  1.0|        12.5|                 2.5|          0|\n",
      "|       2| 2024-12-01 00:17:27|  2024-12-01 00:28:19|              1|          1.8|         1|                 N|         230|         142|           1|       12.1|  1.0|    0.5|      3.42|         0.0|                  1.0|       20.52|                 2.5|          0|\n",
      "|       2| 2024-12-01 00:42:51|  2024-12-01 00:45:48|              1|         0.45|         1|                 N|          48|          48|           1|        5.1|  1.0|    0.5|      2.02|         0.0|                  1.0|       12.12|                 2.5|          0|\n",
      "|       2| 2024-12-01 00:07:32|  2024-12-01 00:20:30|              2|         5.98|         1|                 N|         138|         135|           1|       24.7|  6.0|    0.5|      6.44|         0.0|                  1.0|       40.39|                   0|       1.75|\n",
      "|       1| 2024-12-01 00:50:26|  2024-12-01 00:59:03|              2|          1.7|         1|                 N|         144|         107|           2|       10.0|  3.5|    0.5|       0.0|         0.0|                  1.0|        15.0|                 2.5|          0|\n",
      "|       2| 2024-12-01 00:07:14|  2024-12-01 00:16:37|              1|          1.2|         1|                 N|         148|         211|           1|       10.7|  1.0|    0.5|      3.14|         0.0|                  1.0|       18.84|                 2.5|          0|\n",
      "|       2| 2024-12-01 00:44:09|  2024-12-01 01:06:07|              2|         4.25|         1|                 N|         249|         236|           1|       23.3|  1.0|    0.5|      5.66|         0.0|                  1.0|       33.96|                 2.5|          0|\n",
      "|       2| 2024-12-01 00:31:38|  2024-12-01 00:49:20|              1|         3.24|         1|                 N|         230|         145|           1|       19.8|  1.0|    0.5|      6.35|        6.94|                  1.0|       38.09|                 2.5|          0|\n",
      "+--------+--------------------+---------------------+---------------+-------------+----------+------------------+------------+------------+------------+-----------+-----+-------+----------+------------+---------------------+------------+--------------------+-----------+\n",
      "only showing top 35 rows\n",
      "\n"
     ]
    }
   ],
   "source": [
    "data.show(35)"
   ]
  },
  {
   "cell_type": "code",
   "execution_count": 7,
   "id": "120b2375-0412-4a4d-818b-f93ae18e3bd1",
   "metadata": {},
   "outputs": [
    {
     "name": "stderr",
     "output_type": "stream",
     "text": [
      "25/04/28 23:02:32 WARN SparkStringUtils: Truncated the string representation of a plan since it was too large. This behavior can be adjusted by setting 'spark.sql.debug.maxToStringFields'.\n",
      "[Stage 3:===============================================>          (9 + 2) / 11]\r"
     ]
    },
    {
     "name": "stdout",
     "output_type": "stream",
     "text": [
      "+-------+------------------+------------------+------------------+-----------------+------------------+\n",
      "|summary|   passenger_count|     trip_distance|       fare_amount|       tip_amount|      total_amount|\n",
      "+-------+------------------+------------------+------------------+-----------------+------------------+\n",
      "|  count|           3668371|           3668371|           3668371|          3668371|           3668371|\n",
      "|   mean|  1.36244225153198| 5.087801326528824|19.661293004442253|3.459467545675839|28.320414281981286|\n",
      "| stddev|0.8233150946191511|472.83206292608594|19.818889937036584|4.180590909185161|24.645293825233704|\n",
      "|    min|                 0|               0.0|            -975.0|            -80.0|            -951.0|\n",
      "|    max|                \\N|         328827.63|            3033.1|            471.0|            3037.1|\n",
      "+-------+------------------+------------------+------------------+-----------------+------------------+\n",
      "\n"
     ]
    },
    {
     "name": "stderr",
     "output_type": "stream",
     "text": [
      "                                                                                \r"
     ]
    }
   ],
   "source": [
    "data.describe([\"passenger_count\", \"trip_distance\", \"fare_amount\", \"tip_amount\", \"total_amount\"]).show()"
   ]
  },
  {
   "cell_type": "code",
   "execution_count": 8,
   "id": "987fe697-fff8-43a2-9d5a-364e10e5d91b",
   "metadata": {},
   "outputs": [
    {
     "name": "stdout",
     "output_type": "stream",
     "text": [
      "Total number of Rows: 3668371\n"
     ]
    }
   ],
   "source": [
    "print(f\"Total number of Rows: {data.count()}\")"
   ]
  },
  {
   "cell_type": "markdown",
   "id": "f400e670-fbfe-4e3f-b29a-63f0eb2aac40",
   "metadata": {},
   "source": [
    "data = data.withColumn(\"passenger_count\",\n",
    "                       when((col(\"passenger_count\").isNull()) | (col(\"passenger_count\") == \"\\\\N\"), 1)\n",
    "                       .otherwise(col(\"passenger_count\").cast(\"integer\")))"
   ]
  },
  {
   "cell_type": "code",
   "execution_count": 10,
   "id": "cb3e048f-c5d4-4b26-8dbb-75a76bf7e2fe",
   "metadata": {},
   "outputs": [],
   "source": [
    "passenger_condition = (col(\"passenger_count\").isNull()) | (col(\"passenger_count\") == \"\\\\N\")\n",
    "\n",
    "data = data.withColumn(\n",
    "    \"passenger_count\",\n",
    "    when(passenger_condition, 1)\n",
    "    .otherwise(col(\"passenger_count\").cast(\"integer\"))\n",
    ")"
   ]
  },
  {
   "cell_type": "code",
   "execution_count": 11,
   "id": "b832293b-44da-49cc-a3fb-3ac5bc909968",
   "metadata": {},
   "outputs": [],
   "source": [
    "data = data.filter(\n",
    "    (col(\"fare_amount\") >= 0) &\n",
    "    (col(\"tip_amount\") >= 0) &\n",
    "    (col(\"total_amount\") >= 0)\n",
    ")"
   ]
  },
  {
   "cell_type": "markdown",
   "id": "d8135426-80a0-47a0-b507-449b9f3b47f2",
   "metadata": {},
   "source": [
    "Removing rows with zero trip_distance "
   ]
  },
  {
   "cell_type": "code",
   "execution_count": 13,
   "id": "caae03ba-92e6-48f0-8d27-ca0c3a09d5e9",
   "metadata": {},
   "outputs": [],
   "source": [
    "data = data.filter(col(\"trip_distance\") > 0)"
   ]
  },
  {
   "cell_type": "code",
   "execution_count": 14,
   "id": "f68f6fe1-07a0-4407-aaac-891249bd0cb6",
   "metadata": {},
   "outputs": [
    {
     "name": "stderr",
     "output_type": "stream",
     "text": [
      "[Stage 9:>                                                        (0 + 11) / 11]\r"
     ]
    },
    {
     "name": "stdout",
     "output_type": "stream",
     "text": [
      "+-------+------------------+-----------------+------------------+-----------------+------------------+\n",
      "|summary|   passenger_count|    trip_distance|       fare_amount|       tip_amount|      total_amount|\n",
      "+-------+------------------+-----------------+------------------+-----------------+------------------+\n",
      "|  count|           3519975|          3519975|           3519975|          3519975|           3519975|\n",
      "|   mean|1.3301486516239462| 5.14061899303258|20.391017407793722|3.549092422530981|  29.3781028643687|\n",
      "| stddev|0.7927183951624491|472.6335201778042|18.108444374611814|4.138809353313388|22.740203560865478|\n",
      "|    min|                 0|             0.01|               0.0|              0.0|               0.0|\n",
      "|    max|                 9|        328827.63|            3033.1|            471.0|            3037.1|\n",
      "+-------+------------------+-----------------+------------------+-----------------+------------------+\n",
      "\n"
     ]
    },
    {
     "name": "stderr",
     "output_type": "stream",
     "text": [
      "                                                                                \r"
     ]
    }
   ],
   "source": [
    "data.describe([\"passenger_count\", \"trip_distance\", \"fare_amount\", \"tip_amount\", \"total_amount\"]).show()"
   ]
  },
  {
   "cell_type": "markdown",
   "id": "1d4c3dc6-aad4-4823-8dbe-f757fd155853",
   "metadata": {},
   "source": [
    "Checking new total number of  rows"
   ]
  },
  {
   "cell_type": "code",
   "execution_count": 16,
   "id": "fb1a0634-c355-450e-a3e2-e5bb3646c36f",
   "metadata": {},
   "outputs": [
    {
     "name": "stdout",
     "output_type": "stream",
     "text": [
      "Total Rows after cleaning: 3519975\n"
     ]
    }
   ],
   "source": [
    "print(f\"Total Rows after cleaning: {data.count()}\")"
   ]
  },
  {
   "cell_type": "code",
   "execution_count": 17,
   "id": "5ad89894-f738-4f01-9430-edb2c0524599",
   "metadata": {},
   "outputs": [
    {
     "name": "stderr",
     "output_type": "stream",
     "text": [
      "                                                                                \r"
     ]
    },
    {
     "data": {
      "image/png": "[encoded data removed]",
      "text/plain": [
       "<Figure size 1000x600 with 1 Axes>"
      ]
     },
     "metadata": {},
     "output_type": "display_data"
    }
   ],
   "source": [
    "sample_data = data.select(\"trip_distance\").sample(fraction=0.001).toPandas()\n",
    "\n",
    "plt.figure(figsize=(10,6))\n",
    "sns.histplot(sample_data[\"trip_distance\"], bins=100, kde=True)\n",
    "plt.title(\"Distribution of Trip Distance \")\n",
    "plt.xlabel(\"Trip Distance per miles\")\n",
    "plt.ylabel(\"Frequency\")\n",
    "plt.xlim(0, 50)\n",
    "plt.show()"
   ]
  },
  {
   "cell_type": "code",
   "execution_count": 18,
   "id": "d3667e7b-75fc-4a60-ba47-927342558420",
   "metadata": {},
   "outputs": [
    {
     "name": "stderr",
     "output_type": "stream",
     "text": [
      "                                                                                \r"
     ]
    },
    {
     "data": {
      "image/png": "[encoded data removed]",
      "text/plain": [
       "<Figure size 1000x600 with 1 Axes>"
      ]
     },
     "metadata": {},
     "output_type": "display_data"
    }
   ],
   "source": [
    "sample_data = data.select(\"fare_amount\").sample(fraction=0.001).toPandas()\n",
    "\n",
    "plt.figure(figsize=(10,6))\n",
    "sns.histplot(sample_data[\"fare_amount\"], bins=100, kde=True)\n",
    "plt.title(\"Distribution of Fare Amount \")\n",
    "plt.xlabel(\"$ Fare Amount\")\n",
    "plt.ylabel(\"Frequency\")\n",
    "plt.xlim(0, 100)\n",
    "plt.show()"
   ]
  },
  {
   "cell_type": "code",
   "execution_count": 19,
   "id": "afa75942-aa33-4970-a001-4ac9adc6a880",
   "metadata": {},
   "outputs": [
    {
     "name": "stderr",
     "output_type": "stream",
     "text": [
      "                                                                                \r"
     ]
    },
    {
     "data": {
      "image/png": "[encoded data removed]",
      "text/plain": [
       "<Figure size 1000x600 with 1 Axes>"
      ]
     },
     "metadata": {},
     "output_type": "display_data"
    }
   ],
   "source": [
    "sample_data = data.select(\"tip_amount\").sample(fraction=0.001).toPandas()\n",
    "\n",
    "plt.figure(figsize=(10,6))\n",
    "sns.histplot(sample_data[\"tip_amount\"], bins=50, kde=True)\n",
    "plt.title(\"Distribution of Tip Amount\")\n",
    "plt.xlabel(\"'$' Tip Amount\")\n",
    "plt.ylabel(\"Frequency\")\n",
    "plt.xlim(0, 20)\n",
    "plt.show()"
   ]
  },
  {
   "cell_type": "code",
   "execution_count": 20,
   "id": "9119b29d-eaca-4490-acea-5154c22cdaca",
   "metadata": {},
   "outputs": [],
   "source": [
    "grouped_data = data.groupBy(col(\"passenger_count\"))\n",
    "counted_data = grouped_data.count()\n",
    "passenger_counts = counted_data.orderBy(col(\"passenger_count\"))"
   ]
  },
  {
   "cell_type": "code",
   "execution_count": 21,
   "id": "e5211bc9-19e0-4a5e-a475-f6cf42372bc0",
   "metadata": {},
   "outputs": [
    {
     "name": "stderr",
     "output_type": "stream",
     "text": [
      "[Stage 18:>                                                       (0 + 11) / 11]\r"
     ]
    },
    {
     "name": "stdout",
     "output_type": "stream",
     "text": [
      "+---------------+-------+\n",
      "|passenger_count|  count|\n",
      "+---------------+-------+\n",
      "|              0|  29156|\n",
      "|              1|2741150|\n",
      "|              2| 489671|\n",
      "|              3| 128653|\n",
      "|              4|  95195|\n",
      "|              5|  22059|\n",
      "|              6|  14081|\n",
      "|              7|      4|\n",
      "|              8|      4|\n",
      "|              9|      2|\n",
      "+---------------+-------+\n",
      "\n"
     ]
    },
    {
     "name": "stderr",
     "output_type": "stream",
     "text": [
      "                                                                                \r"
     ]
    }
   ],
   "source": [
    "passenger_counts.show()"
   ]
  },
  {
   "cell_type": "code",
   "execution_count": 22,
   "id": "116ffd9c-b490-4e35-992b-a6d8aa927f54",
   "metadata": {},
   "outputs": [],
   "source": [
    "data = data.withColumn(\"pickup_hour\", hour(\"tpep_pickup_datetime\"))"
   ]
  },
  {
   "cell_type": "code",
   "execution_count": 23,
   "id": "92087aa5-1a85-47b0-91be-b86043ae98e9",
   "metadata": {},
   "outputs": [],
   "source": [
    "hourly_group = data.groupBy(col(\"pickup_hour\"))\n",
    "hourly_counts = hourly_group.count()\n",
    "trips_by_hour = hourly_counts.orderBy(col(\"pickup_hour\"))"
   ]
  },
  {
   "cell_type": "code",
   "execution_count": 24,
   "id": "9553084c-4ebf-47d9-9b3b-8679793f28b0",
   "metadata": {},
   "outputs": [
    {
     "name": "stderr",
     "output_type": "stream",
     "text": [
      "[Stage 21:>                                                       (0 + 11) / 11]\r"
     ]
    },
    {
     "name": "stdout",
     "output_type": "stream",
     "text": [
      "+-----------+------+\n",
      "|pickup_hour| count|\n",
      "+-----------+------+\n",
      "|          0|104087|\n",
      "|          1| 62615|\n",
      "|          2| 38438|\n",
      "|          3| 24819|\n",
      "|          4| 19396|\n",
      "|          5| 20633|\n",
      "|          6| 43963|\n",
      "|          7| 89136|\n",
      "|          8|125324|\n",
      "|          9|140924|\n",
      "|         10|158456|\n",
      "|         11|176456|\n",
      "|         12|193073|\n",
      "|         13|199415|\n",
      "|         14|215941|\n",
      "|         15|226897|\n",
      "|         16|223953|\n",
      "|         17|235861|\n",
      "|         18|245543|\n",
      "|         19|219240|\n",
      "+-----------+------+\n",
      "only showing top 20 rows\n",
      "\n"
     ]
    },
    {
     "name": "stderr",
     "output_type": "stream",
     "text": [
      "                                                                                \r"
     ]
    }
   ],
   "source": [
    "trips_by_hour.show()"
   ]
  },
  {
   "cell_type": "code",
   "execution_count": 25,
   "id": "5ad0e42b-0bab-4a91-836b-5979e00ff567",
   "metadata": {},
   "outputs": [
    {
     "name": "stderr",
     "output_type": "stream",
     "text": [
      "                                                                                \r"
     ]
    }
   ],
   "source": [
    "trips_by_hour_pd = trips_by_hour.toPandas()"
   ]
  },
  {
   "cell_type": "code",
   "execution_count": 26,
   "id": "5a4022c2-6ccf-41dc-a237-e04969a80e26",
   "metadata": {},
   "outputs": [
    {
     "data": {
      "image/png": "[encoded data removed]",
      "text/plain": [
       "<Figure size 1000x600 with 1 Axes>"
      ]
     },
     "metadata": {},
     "output_type": "display_data"
    }
   ],
   "source": [
    "plt.figure(figsize=(10,6))\n",
    "sns.lineplot(x=\"pickup_hour\", y=\"count\", data=trips_by_hour_pd, marker=\"o\")\n",
    "plt.title(\"Trips by Pickup Hour\")\n",
    "plt.xlabel(\"Hour of Day\")\n",
    "plt.ylabel(\"Number of Trips\")\n",
    "plt.xticks(range(0,24))\n",
    "plt.grid()\n",
    "plt.show()"
   ]
  },
  {
   "cell_type": "code",
   "execution_count": 27,
   "id": "c96955b0-f4b9-4071-b655-3fc35c64dec5",
   "metadata": {},
   "outputs": [],
   "source": [
    "pickup_day_column = dayofweek(col(\"tpep_pickup_datetime\"))\n",
    "data = data.withColumn(\"pickup_day\", pickup_day_column)"
   ]
  },
  {
   "cell_type": "code",
   "execution_count": 28,
   "id": "3be33691-dfff-40fb-a858-72631229c289",
   "metadata": {},
   "outputs": [],
   "source": [
    "grouped_by_day = data.groupBy(col(\"pickup_day\"))\n",
    "counted_by_day = grouped_by_day.count()\n",
    "trips_by_day = counted_by_day.orderBy(col(\"pickup_day\"))"
   ]
  },
  {
   "cell_type": "code",
   "execution_count": 29,
   "id": "4d481c94-8bf6-42d2-9a63-ae33ae1d0c0f",
   "metadata": {},
   "outputs": [
    {
     "name": "stderr",
     "output_type": "stream",
     "text": [
      "[Stage 32:>                                                       (0 + 11) / 11]\r"
     ]
    },
    {
     "name": "stdout",
     "output_type": "stream",
     "text": [
      "+----------+------+\n",
      "|pickup_day| count|\n",
      "+----------+------+\n",
      "|         1|505396|\n",
      "|         2|500303|\n",
      "|         3|543005|\n",
      "|         4|453957|\n",
      "|         5|503122|\n",
      "|         6|507751|\n",
      "|         7|506441|\n",
      "+----------+------+\n",
      "\n"
     ]
    },
    {
     "name": "stderr",
     "output_type": "stream",
     "text": [
      "                                                                                \r"
     ]
    }
   ],
   "source": [
    "trips_by_day.show()"
   ]
  },
  {
   "cell_type": "code",
   "execution_count": 30,
   "id": "9a16987c-eb3f-4455-8d6f-140d541c16bd",
   "metadata": {},
   "outputs": [
    {
     "name": "stderr",
     "output_type": "stream",
     "text": [
      "                                                                                \r"
     ]
    },
    {
     "data": {
      "image/png": "[encoded data removed]",
      "text/plain": [
       "<Figure size 800x600 with 1 Axes>"
      ]
     },
     "metadata": {},
     "output_type": "display_data"
    }
   ],
   "source": [
    "trips_by_day_pd = trips_by_day.toPandas()\n",
    "\n",
    "plt.figure(figsize=(8,6))\n",
    "sns.barplot(x=\"pickup_day\", y=\"count\", data=trips_by_day_pd)\n",
    "plt.title(\"Trips by Day of Week\")\n",
    "plt.xlabel(\"Day of Week (1=Sun, 7=Sat)\")\n",
    "plt.ylabel(\"Number of Trips\")\n",
    "plt.grid()\n",
    "plt.show()"
   ]
  },
  {
   "cell_type": "code",
   "execution_count": 31,
   "id": "f281e920-c1da-4335-af9a-cc3fd7695c61",
   "metadata": {},
   "outputs": [],
   "source": [
    "pickup_hour_column = hour(col(\"tpep_pickup_datetime\"))\n",
    "data = data.withColumn(\"pickup_hour\", pickup_hour_column)"
   ]
  },
  {
   "cell_type": "code",
   "execution_count": 32,
   "id": "3b869211-19f7-4a66-87c2-2b901e2a6e37",
   "metadata": {},
   "outputs": [],
   "source": [
    "grouped_by_hour = data.groupBy(col(\"pickup_hour\"))\n",
    "avg_fare = grouped_by_hour.avg(\"fare_amount\")\n",
    "avg_fare_by_hour = avg_fare.orderBy(col(\"pickup_hour\"))"
   ]
  },
  {
   "cell_type": "code",
   "execution_count": 33,
   "id": "9c9a522c-2ddc-4edf-b82e-bd6fe3960c8b",
   "metadata": {},
   "outputs": [
    {
     "name": "stderr",
     "output_type": "stream",
     "text": [
      "[Stage 43:===============>                                         (3 + 8) / 11]\r"
     ]
    },
    {
     "name": "stdout",
     "output_type": "stream",
     "text": [
      "+-----------+------------------+\n",
      "|pickup_hour|  avg(fare_amount)|\n",
      "+-----------+------------------+\n",
      "|          0|20.634402086715895|\n",
      "|          1|18.629704224227417|\n",
      "|          2|16.640832249336597|\n",
      "|          3|18.240703090374314|\n",
      "|          4|25.617855743452257|\n",
      "|          5|29.643453206029175|\n",
      "|          6|23.300591633873942|\n",
      "|          7|19.937882561479118|\n",
      "|          8|18.996333822731454|\n",
      "|          9| 18.74034117680447|\n",
      "|         10| 19.25520680819912|\n",
      "|         11| 19.70215096114609|\n",
      "|         12| 20.31053062831156|\n",
      "|         13|21.079782313266286|\n",
      "|         14| 22.00689868991984|\n",
      "|         15|22.004955111790782|\n",
      "|         16|  22.2406854116712|\n",
      "|         17|20.992155676436514|\n",
      "|         18| 19.48158367373537|\n",
      "|         19| 19.34671611019886|\n",
      "+-----------+------------------+\n",
      "only showing top 20 rows\n",
      "\n"
     ]
    },
    {
     "name": "stderr",
     "output_type": "stream",
     "text": [
      "                                                                                \r"
     ]
    }
   ],
   "source": [
    "avg_fare_by_hour.show()"
   ]
  },
  {
   "cell_type": "code",
   "execution_count": 34,
   "id": "8cb54d60-646c-432d-80a5-59170037ca30",
   "metadata": {},
   "outputs": [],
   "source": [
    "pickup_day_column = dayofweek(col(\"tpep_pickup_datetime\"))\n",
    "data = data.withColumn(\"pickup_day\", pickup_day_column)"
   ]
  },
  {
   "cell_type": "code",
   "execution_count": 35,
   "id": "40b35218-dba4-47cd-97af-9545ab513f82",
   "metadata": {},
   "outputs": [],
   "source": [
    "grouped_by_day = data.groupBy(col(\"pickup_day\"))\n",
    "counted_trips = grouped_by_day.count()\n",
    "trips_by_day = counted_trips.orderBy(col(\"pickup_day\"))"
   ]
  },
  {
   "cell_type": "code",
   "execution_count": 36,
   "id": "07f8fb19-4e86-4baa-87b6-1ae170fe94a6",
   "metadata": {},
   "outputs": [
    {
     "name": "stderr",
     "output_type": "stream",
     "text": [
      "[Stage 46:>                                                       (0 + 11) / 11]\r"
     ]
    },
    {
     "name": "stdout",
     "output_type": "stream",
     "text": [
      "+----------+------+\n",
      "|pickup_day| count|\n",
      "+----------+------+\n",
      "|         1|505396|\n",
      "|         2|500303|\n",
      "|         3|543005|\n",
      "|         4|453957|\n",
      "|         5|503122|\n",
      "|         6|507751|\n",
      "|         7|506441|\n",
      "+----------+------+\n",
      "\n"
     ]
    },
    {
     "name": "stderr",
     "output_type": "stream",
     "text": [
      "                                                                                \r"
     ]
    }
   ],
   "source": [
    "trips_by_day.show()"
   ]
  },
  {
   "cell_type": "code",
   "execution_count": 37,
   "id": "2d54deca-30e2-40ce-a0b8-5931e4c81e74",
   "metadata": {},
   "outputs": [],
   "source": [
    "grouped_by_passenger = data.groupBy(col(\"passenger_count\"))\n",
    "average_distance = grouped_by_passenger.avg(\"trip_distance\")\n",
    "avg_distance_by_passenger = average_distance.orderBy(col(\"passenger_count\"))"
   ]
  },
  {
   "cell_type": "code",
   "execution_count": 38,
   "id": "5181f5f1-bf4a-4077-ab10-e474e9a5cbaf",
   "metadata": {},
   "outputs": [
    {
     "name": "stderr",
     "output_type": "stream",
     "text": [
      "[Stage 49:>                                                       (0 + 11) / 11]\r"
     ]
    },
    {
     "name": "stdout",
     "output_type": "stream",
     "text": [
      "+---------------+------------------+\n",
      "|passenger_count|avg(trip_distance)|\n",
      "+---------------+------------------+\n",
      "|              0|2.6783691178488143|\n",
      "|              1| 5.519721445378697|\n",
      "|              2|3.9146675216624947|\n",
      "|              3|3.7115892361623897|\n",
      "|              4|3.9260247912180235|\n",
      "|              5| 3.293492452060384|\n",
      "|              6|3.2325708401391973|\n",
      "|              7|            10.925|\n",
      "|              8|             0.085|\n",
      "|              9|             9.085|\n",
      "+---------------+------------------+\n",
      "\n"
     ]
    },
    {
     "name": "stderr",
     "output_type": "stream",
     "text": [
      "                                                                                \r"
     ]
    }
   ],
   "source": [
    "avg_distance_by_passenger.show()"
   ]
  },
  {
   "cell_type": "code",
   "execution_count": 39,
   "id": "2a36394f-077b-4279-9f3a-8d47db2a4aab",
   "metadata": {},
   "outputs": [],
   "source": [
    "grouped_by_payment = data.groupBy(col(\"payment_type\"))\n",
    "average_tip = grouped_by_payment.avg(\"tip_amount\")\n",
    "tip_by_payment = average_tip.orderBy(col(\"payment_type\"))"
   ]
  },
  {
   "cell_type": "code",
   "execution_count": 40,
   "id": "ae6cb624-0a32-421a-ad69-c6524707b055",
   "metadata": {},
   "outputs": [
    {
     "name": "stdout",
     "output_type": "stream",
     "text": [
      "+------------+--------------------+\n",
      "|payment_type|     avg(tip_amount)|\n",
      "+------------+--------------------+\n",
      "|           0|   1.290529661382736|\n",
      "|           1|   4.473400516060833|\n",
      "|           2|2.297290883752637...|\n",
      "|           3|0.007077688330388116|\n",
      "|           4|0.009107424032337665|\n",
      "+------------+--------------------+\n",
      "\n"
     ]
    },
    {
     "name": "stderr",
     "output_type": "stream",
     "text": [
      "                                                                                \r"
     ]
    }
   ],
   "source": [
    "tip_by_payment.show()"
   ]
  },
  {
   "cell_type": "code",
   "execution_count": 41,
   "id": "5ac7839e-d38d-498b-a613-090aa1c512cc",
   "metadata": {},
   "outputs": [],
   "source": [
    "pickup_date_column = to_date(col(\"tpep_pickup_datetime\"))\n",
    "data = data.withColumn(\"pickup_date\", pickup_date_column)"
   ]
  },
  {
   "cell_type": "code",
   "execution_count": 42,
   "id": "c5c93aa0-b06c-458d-96dc-cc575f10cb32",
   "metadata": {},
   "outputs": [],
   "source": [
    "grouped_by_date = data.groupBy(col(\"pickup_date\"))\n",
    "total_revenue = grouped_by_date.sum(\"total_amount\")\n",
    "revenue_by_day = total_revenue.orderBy(col(\"pickup_date\"))\n"
   ]
  },
  {
   "cell_type": "code",
   "execution_count": 43,
   "id": "ea05d686-f5c1-4ea6-b761-5de56915236d",
   "metadata": {},
   "outputs": [
    {
     "name": "stderr",
     "output_type": "stream",
     "text": [
      "[Stage 55:>                                                       (0 + 11) / 11]\r"
     ]
    },
    {
     "name": "stdout",
     "output_type": "stream",
     "text": [
      "+-----------+------------------+\n",
      "|pickup_date| sum(total_amount)|\n",
      "+-----------+------------------+\n",
      "| 2008-12-31|128.98000000000002|\n",
      "| 2009-01-01|             60.89|\n",
      "| 2024-11-30| 735.6200000000002|\n",
      "| 2024-12-01|2875292.3699997594|\n",
      "| 2024-12-02|3426823.2799997106|\n",
      "| 2024-12-03|3795732.9999997052|\n",
      "| 2024-12-04|3920904.6199998325|\n",
      "| 2024-12-05| 4378056.819999654|\n",
      "| 2024-12-06| 4238201.179999826|\n",
      "| 2024-12-07|3899184.7499998123|\n",
      "| 2024-12-08|3501426.5899997316|\n",
      "| 2024-12-09| 3524479.399999838|\n",
      "| 2024-12-10|4056618.8599997875|\n",
      "| 2024-12-11| 4259205.999999774|\n",
      "| 2024-12-12|  4773828.28999982|\n",
      "| 2024-12-13|  4490826.89999971|\n",
      "| 2024-12-14| 4214785.589999889|\n",
      "| 2024-12-15|3525187.1599996914|\n",
      "| 2024-12-16| 3283737.729999901|\n",
      "| 2024-12-17| 3598943.909999917|\n",
      "+-----------+------------------+\n",
      "only showing top 20 rows\n",
      "\n"
     ]
    },
    {
     "name": "stderr",
     "output_type": "stream",
     "text": [
      "                                                                                \r"
     ]
    }
   ],
   "source": [
    "revenue_by_day.show()"
   ]
  },
  {
   "cell_type": "code",
   "execution_count": 44,
   "id": "4823c6fd-7eb2-457b-b245-f4dd51304596",
   "metadata": {},
   "outputs": [
    {
     "name": "stderr",
     "output_type": "stream",
     "text": [
      "                                                                                \r"
     ]
    }
   ],
   "source": [
    "data.write \\\n",
    "    .option(\"header\", True) \\\n",
    "    .mode(\"overwrite\") \\\n",
    "    .csv(\"cleaned_taxi_dec2024\")"
   ]
  },
  {
   "cell_type": "code",
   "execution_count": 45,
   "id": "1d40cddd-5bf2-4915-addf-963fd2ea55e9",
   "metadata": {},
   "outputs": [
    {
     "name": "stderr",
     "output_type": "stream",
     "text": [
      "                                                                                \r"
     ]
    }
   ],
   "source": [
    "data = spark.read.csv(\n",
    "    \"cleaned_taxi_dec2024\",\n",
    "    header=True,\n",
    "    inferSchema=True\n",
    ")"
   ]
  },
  {
   "cell_type": "code",
   "execution_count": 46,
   "id": "1bc9674e-f698-4054-ba5f-8251f9f4f769",
   "metadata": {},
   "outputs": [
    {
     "name": "stdout",
     "output_type": "stream",
     "text": [
      "root\n",
      " |-- VendorID: integer (nullable = true)\n",
      " |-- tpep_pickup_datetime: timestamp (nullable = true)\n",
      " |-- tpep_dropoff_datetime: timestamp (nullable = true)\n",
      " |-- passenger_count: integer (nullable = true)\n",
      " |-- trip_distance: double (nullable = true)\n",
      " |-- RatecodeID: string (nullable = true)\n",
      " |-- store_and_fwd_flag: string (nullable = true)\n",
      " |-- PULocationID: integer (nullable = true)\n",
      " |-- DOLocationID: integer (nullable = true)\n",
      " |-- payment_type: integer (nullable = true)\n",
      " |-- fare_amount: double (nullable = true)\n",
      " |-- extra: double (nullable = true)\n",
      " |-- mta_tax: double (nullable = true)\n",
      " |-- tip_amount: double (nullable = true)\n",
      " |-- tolls_amount: double (nullable = true)\n",
      " |-- improvement_surcharge: double (nullable = true)\n",
      " |-- total_amount: double (nullable = true)\n",
      " |-- congestion_surcharge: string (nullable = true)\n",
      " |-- Airport_fee: string (nullable = true)\n",
      " |-- pickup_hour: integer (nullable = true)\n",
      " |-- pickup_day: integer (nullable = true)\n",
      " |-- pickup_date: date (nullable = true)\n",
      "\n"
     ]
    }
   ],
   "source": [
    "data.printSchema()"
   ]
  },
  {
   "cell_type": "code",
   "execution_count": 47,
   "id": "0d8cc304-50d3-4b34-a97c-af37d163fdae",
   "metadata": {},
   "outputs": [
    {
     "name": "stdout",
     "output_type": "stream",
     "text": [
      "Total number of Cleaned Rows: 3519975\n"
     ]
    }
   ],
   "source": [
    "print(f\"Total number of Cleaned Rows: {data.count()}\")"
   ]
  },
  {
   "cell_type": "markdown",
   "id": "0d756340-958c-4fa2-95c6-9357d8785f79",
   "metadata": {},
   "source": [
    "# Task 1 Using Naive Bayes for Tip prediction"
   ]
  },
  {
   "cell_type": "code",
   "execution_count": 49,
   "id": "989ead8b-87d3-47cd-9785-07aef12dd81f",
   "metadata": {},
   "outputs": [],
   "source": [
    "data = data.withColumn(\n",
    "    \"tipped\",\n",
    "    when(col(\"tip_amount\") > 0, 1).otherwise(0)\n",
    ")"
   ]
  },
  {
   "cell_type": "code",
   "execution_count": 50,
   "id": "343859e4-81d1-45db-9817-fe6fe9b6ab55",
   "metadata": {},
   "outputs": [],
   "source": [
    "data = data.withColumn(\n",
    "    \"passenger_count\",\n",
    "    col(\"passenger_count\").cast(\"integer\")\n",
    ")\n"
   ]
  },
  {
   "cell_type": "code",
   "execution_count": 51,
   "id": "94a55b5f-66af-461b-9744-fa5cc4b04b86",
   "metadata": {},
   "outputs": [],
   "source": [
    "data = data.dropna(subset  =[\"trip_distance\", \"fare_amount\", \"passenger_count\"])"
   ]
  },
  {
   "cell_type": "code",
   "execution_count": 52,
   "id": "849c1e2e-ca86-44cb-b380-7de8d2558401",
   "metadata": {},
   "outputs": [],
   "source": [
    "feature_cols= [\"trip_distance\" , \"fare_amount\", \"passenger_count\"]"
   ]
  },
  {
   "cell_type": "code",
   "execution_count": 53,
   "id": "c552e409-0fee-43cb-8ba7-00325c16b25a",
   "metadata": {},
   "outputs": [],
   "source": [
    "assembler = VectorAssembler(\n",
    "    inputCols=feature_cols,\n",
    "    outputCol=\"features\"\n",
    ")\n"
   ]
  },
  {
   "cell_type": "code",
   "execution_count": 54,
   "id": "d3d1b6b2-c84d-446a-b9d5-5e730c268016",
   "metadata": {},
   "outputs": [],
   "source": [
    "assembled = assembler.transform(data)\n",
    "assembled = assembled.dropna(subset=[\"payment_type\"])"
   ]
  },
  {
   "cell_type": "code",
   "execution_count": 55,
   "id": "4cf197d2-28e2-4fc0-8dc5-3026f31fc1b1",
   "metadata": {},
   "outputs": [],
   "source": [
    "def clip_negative(features):\n",
    "    values = [max(v, 0.0) for v in features.values]\n",
    "    return Vectors.dense(values)"
   ]
  },
  {
   "cell_type": "code",
   "execution_count": 56,
   "id": "411363cf-68a3-4f18-9858-52887763ea36",
   "metadata": {},
   "outputs": [],
   "source": [
    "clip_negative_udf = udf(clip_negative, VectorUDT())"
   ]
  },
  {
   "cell_type": "code",
   "execution_count": 57,
   "id": "a1c50334-f0f4-44d0-a019-ffa67fc70055",
   "metadata": {},
   "outputs": [],
   "source": [
    "train_data, test_data = assembled.randomSplit([0.7, 0.3], seed=42)"
   ]
  },
  {
   "cell_type": "code",
   "execution_count": 58,
   "id": "8f4cb54b-016b-473b-adb8-6a155c6fc263",
   "metadata": {},
   "outputs": [],
   "source": [
    "train_data = train_data.withColumnRenamed(\"tipped\", \"label\")\n",
    "test_data = test_data.withColumnRenamed(\"tipped\", \"label\")\n"
   ]
  },
  {
   "cell_type": "code",
   "execution_count": 59,
   "id": "cc655124-965e-4620-9c92-79eade08d648",
   "metadata": {},
   "outputs": [],
   "source": [
    "train_data = train_data.withColumn(\"features_array\", vector_to_array(\"features\"))\n",
    "test_data = test_data.withColumn(\"features_array\", vector_to_array(\"features\"))"
   ]
  },
  {
   "cell_type": "code",
   "execution_count": 60,
   "id": "dc7a2e0e-6fcd-455e-9c60-7b15d8c38cfb",
   "metadata": {},
   "outputs": [
    {
     "name": "stderr",
     "output_type": "stream",
     "text": [
      "25/04/28 23:03:03 WARN InstanceBuilder: Failed to load implementation from:dev.ludovic.netlib.blas.JNIBLAS\n",
      "[Stage 67:=====>                                                  (1 + 10) / 11]\r"
     ]
    },
    {
     "name": "stdout",
     "output_type": "stream",
     "text": [
      "Accuracy of Simple Naive Bayes Model Before Tuning: 0.75\n"
     ]
    },
    {
     "name": "stderr",
     "output_type": "stream",
     "text": [
      "                                                                                \r"
     ]
    }
   ],
   "source": [
    "nb_simple = NaiveBayes(featuresCol=\"features\", labelCol=\"label\")\n",
    "\n",
    "\n",
    "model_nb_simple = nb_simple.fit(train_data)\n",
    "predictions_nb_simple = model_nb_simple.transform(test_data)\n",
    "\n",
    "\n",
    "evaluator_nb_simple = MulticlassClassificationEvaluator(labelCol=\"label\", predictionCol=\"prediction\", metricName=\"accuracy\")\n",
    "\n",
    "\n",
    "accuracy_nb_simple = evaluator_nb_simple.evaluate(predictions_nb_simple)\n",
    "\n",
    "print(f\"Accuracy of Simple Naive Bayes Model Before Tuning: {accuracy_nb_simple:.2f}\")"
   ]
  },
  {
   "cell_type": "code",
   "execution_count": 61,
   "id": "38e15350-0c9e-49cc-82df-2829d3b7da00",
   "metadata": {},
   "outputs": [],
   "source": [
    "nb = NaiveBayes(featuresCol=\"features\", labelCol=\"label\", modelType=\"multinomial\")"
   ]
  },
  {
   "cell_type": "code",
   "execution_count": 62,
   "id": "d0277e03-80c2-4124-b265-801cbef61215",
   "metadata": {},
   "outputs": [],
   "source": [
    "paramGrid_nb = ParamGridBuilder() \\\n",
    "    .addGrid(nb.smoothing, [0.5, 1.0, 1.5]) \\\n",
    "    .build()"
   ]
  },
  {
   "cell_type": "code",
   "execution_count": 63,
   "id": "3dc96f09-b3d2-48d4-9d86-91551da0997f",
   "metadata": {},
   "outputs": [],
   "source": [
    "crossval_nb = CrossValidator(\n",
    "    estimator=nb,\n",
    "    estimatorParamMaps=paramGrid_nb,\n",
    "    evaluator=BinaryClassificationEvaluator(labelCol=\"label\", metricName=\"areaUnderROC\"),\n",
    "    numFolds=3\n",
    ")"
   ]
  },
  {
   "cell_type": "code",
   "execution_count": 64,
   "id": "a5a44d8f-3de1-4f6c-889c-2254484da0ee",
   "metadata": {},
   "outputs": [
    {
     "name": "stderr",
     "output_type": "stream",
     "text": [
      "                                                                                \r"
     ]
    }
   ],
   "source": [
    "cvModel_tip = crossval_nb.fit(train_data)"
   ]
  },
  {
   "cell_type": "code",
   "execution_count": 65,
   "id": "0055d992-9fd4-4c6d-9d52-1642eefbdb81",
   "metadata": {},
   "outputs": [
    {
     "name": "stderr",
     "output_type": "stream",
     "text": [
      "                                                                                \r"
     ]
    },
    {
     "name": "stdout",
     "output_type": "stream",
     "text": [
      " Tip Prediction for Cross Validated ROC AUC: 0.53\n"
     ]
    }
   ],
   "source": [
    "predictions_tip_cv = cvModel_tip.transform(test_data)\n",
    "evaluator_tip = BinaryClassificationEvaluator(labelCol=\"label\")\n",
    "roc_auc_tip_cv = evaluator_tip.evaluate(predictions_tip_cv)\n",
    "print(f\" Tip Prediction for Cross Validated ROC AUC: {roc_auc_tip_cv:.2f}\")"
   ]
  },
  {
   "cell_type": "code",
   "execution_count": 66,
   "id": "846b4cec-1b3d-40c6-9d95-6786b7f8ca32",
   "metadata": {},
   "outputs": [
    {
     "name": "stderr",
     "output_type": "stream",
     "text": [
      "[Stage 215:=====>                                                 (1 + 10) / 11]\r"
     ]
    },
    {
     "name": "stdout",
     "output_type": "stream",
     "text": [
      "Naive Bayes Model Accuracy After Tuning: 0.75\n"
     ]
    },
    {
     "name": "stderr",
     "output_type": "stream",
     "text": [
      "                                                                                \r"
     ]
    }
   ],
   "source": [
    "from pyspark.ml.evaluation import MulticlassClassificationEvaluator\n",
    "\n",
    "evaluator_accuracy = MulticlassClassificationEvaluator(labelCol=\"label\", predictionCol=\"prediction\", metricName=\"accuracy\")\n",
    "accuracy_nb_cv = evaluator_accuracy.evaluate(predictions_tip_cv)\n",
    "print(f\"Naive Bayes Model Accuracy After Tuning: {accuracy_nb_cv:.2f}\")"
   ]
  },
  {
   "cell_type": "code",
   "execution_count": 67,
   "id": "3a8d92fa-11ad-4962-9511-48de39a0ff67",
   "metadata": {},
   "outputs": [
    {
     "name": "stderr",
     "output_type": "stream",
     "text": [
      "[Stage 217:>                                                      (0 + 11) / 11]\r"
     ]
    },
    {
     "name": "stdout",
     "output_type": "stream",
     "text": [
      "Naive Bayes Model F1 Score After Tuning: 0.65\n"
     ]
    },
    {
     "name": "stderr",
     "output_type": "stream",
     "text": [
      "                                                                                \r"
     ]
    }
   ],
   "source": [
    "evaluator_f1 = MulticlassClassificationEvaluator(labelCol=\"label\", predictionCol=\"prediction\", metricName=\"f1\")\n",
    "f1_nb_cv = evaluator_f1.evaluate(predictions_tip_cv)\n",
    "print(f\"Naive Bayes Model F1 Score After Tuning: {f1_nb_cv:.2f}\")\n"
   ]
  },
  {
   "cell_type": "code",
   "execution_count": 68,
   "id": "4deb8688-d414-4818-90af-a9e211150123",
   "metadata": {},
   "outputs": [
    {
     "name": "stderr",
     "output_type": "stream",
     "text": [
      "[Stage 219:=====>                                                 (1 + 10) / 11]\r"
     ]
    },
    {
     "name": "stdout",
     "output_type": "stream",
     "text": [
      "Naive Bayes Model Precision After Tuning: 0.67\n"
     ]
    },
    {
     "name": "stderr",
     "output_type": "stream",
     "text": [
      "                                                                                \r"
     ]
    }
   ],
   "source": [
    "evaluator_precision = MulticlassClassificationEvaluator(labelCol=\"label\", predictionCol=\"prediction\", metricName=\"weightedPrecision\")\n",
    "precision_nb_cv = evaluator_precision.evaluate(predictions_tip_cv)\n",
    "print(f\"Naive Bayes Model Precision After Tuning: {precision_nb_cv:.2f}\")"
   ]
  },
  {
   "cell_type": "code",
   "execution_count": 69,
   "id": "7f9e17f9-00f1-4fa9-916c-c947fa6c3ed9",
   "metadata": {},
   "outputs": [
    {
     "name": "stderr",
     "output_type": "stream",
     "text": [
      "[Stage 221:==========>                                             (2 + 9) / 11]\r"
     ]
    },
    {
     "name": "stdout",
     "output_type": "stream",
     "text": [
      "Naive Bayes Model Recall After Tuning: 0.75\n"
     ]
    },
    {
     "name": "stderr",
     "output_type": "stream",
     "text": [
      "                                                                                \r"
     ]
    }
   ],
   "source": [
    "evaluator_recall = MulticlassClassificationEvaluator(labelCol=\"label\", predictionCol=\"prediction\", metricName=\"weightedRecall\")\n",
    "recall_nb_cv = evaluator_recall.evaluate(predictions_tip_cv)\n",
    "print(f\"Naive Bayes Model Recall After Tuning: {recall_nb_cv:.2f}\")"
   ]
  },
  {
   "cell_type": "code",
   "execution_count": 70,
   "id": "bb979593-f818-4276-86c3-8111b90b419c",
   "metadata": {},
   "outputs": [
    {
     "name": "stdout",
     "output_type": "stream",
     "text": [
      "Parameters for best model for Tip Prediction using Naive Bayes:\n",
      "  • smoothing: 1.5\n",
      "  • modelType: multinomial\n"
     ]
    }
   ],
   "source": [
    "print(\"Parameters for best model for Tip Prediction using Naive Bayes:\")\n",
    "best_nb_tip = cvModel_tip.bestModel\n",
    "print(f\"  • smoothing: {best_nb_tip.getOrDefault('smoothing')}\")\n",
    "print(f\"  • modelType: {best_nb_tip.getOrDefault('modelType')}\")\n"
   ]
  },
  {
   "cell_type": "code",
   "execution_count": 71,
   "id": "7f48f432-07b9-4db5-9eec-38a488742e3f",
   "metadata": {},
   "outputs": [
    {
     "name": "stderr",
     "output_type": "stream",
     "text": [
      "                                                                                \r"
     ]
    }
   ],
   "source": [
    "nb_model = nb.fit(train_data)"
   ]
  },
  {
   "cell_type": "markdown",
   "id": "5ca0f602-6ebe-4857-a799-177fba6bdfe5",
   "metadata": {},
   "source": [
    "Evaluation of model"
   ]
  },
  {
   "cell_type": "code",
   "execution_count": 73,
   "id": "fdb3ac0b-964a-4773-a71c-2c3faffc71a3",
   "metadata": {},
   "outputs": [
    {
     "name": "stderr",
     "output_type": "stream",
     "text": [
      "[Stage 226:>                                                        (0 + 1) / 1]\r"
     ]
    },
    {
     "name": "stdout",
     "output_type": "stream",
     "text": [
      "+-----+----------+--------------------+\n",
      "|label|prediction|         probability|\n",
      "+-----+----------+--------------------+\n",
      "|    1|       1.0|[0.07294798824948...|\n",
      "|    0|       0.0|[0.53206774270301...|\n",
      "|    0|       1.0|[0.15792013846687...|\n",
      "|    1|       1.0|[0.13142430856939...|\n",
      "|    0|       1.0|[0.41287741849617...|\n",
      "|    0|       1.0|[0.39597427387540...|\n",
      "|    0|       1.0|[0.15651074560815...|\n",
      "|    1|       1.0|[0.06345154398142...|\n",
      "|    0|       1.0|[0.13253771752660...|\n",
      "|    1|       1.0|[0.14905612175613...|\n",
      "+-----+----------+--------------------+\n",
      "only showing top 10 rows\n",
      "\n"
     ]
    },
    {
     "name": "stderr",
     "output_type": "stream",
     "text": [
      "                                                                                \r"
     ]
    }
   ],
   "source": [
    "predictions_nb = nb_model.transform(test_data)\n",
    "predictions_nb.select(\"label\", \"prediction\", \"probability\").show(10)"
   ]
  },
  {
   "cell_type": "code",
   "execution_count": 74,
   "id": "aa126f2a-8d84-4aeb-8ac4-5c82a823077f",
   "metadata": {},
   "outputs": [],
   "source": [
    "evaluator = MulticlassClassificationEvaluator(\n",
    "    labelCol=\"label\",\n",
    "    predictionCol=\"prediction\",\n",
    "    metricName=\"accuracy\"\n",
    ")"
   ]
  },
  {
   "cell_type": "code",
   "execution_count": 75,
   "id": "61f82dfb-28e5-46d3-93e5-42840af5f9ee",
   "metadata": {},
   "outputs": [
    {
     "name": "stderr",
     "output_type": "stream",
     "text": [
      "[Stage 227:>                                                      (0 + 11) / 11]\r"
     ]
    },
    {
     "name": "stdout",
     "output_type": "stream",
     "text": [
      " Naive Bayes Models accuracy after finning tunning: 0.75\n"
     ]
    },
    {
     "name": "stderr",
     "output_type": "stream",
     "text": [
      "                                                                                \r"
     ]
    }
   ],
   "source": [
    "accuracy_nb = evaluator.evaluate(predictions_nb)\n",
    "print(f\" Naive Bayes Models accuracy after finning tunning: {accuracy_nb:.2f}\")"
   ]
  },
  {
   "cell_type": "code",
   "execution_count": 132,
   "id": "70f0f0c6-329c-484a-bb6d-cba2b063b604",
   "metadata": {},
   "outputs": [
    {
     "name": "stderr",
     "output_type": "stream",
     "text": [
      "                                                                                \r"
     ]
    },
    {
     "data": {
      "image/png": "[encoded data removed]",
      "text/plain": [
       "<Figure size 640x480 with 2 Axes>"
      ]
     },
     "metadata": {},
     "output_type": "display_data"
    }
   ],
   "source": [
    "\n",
    "y_true = predictions_nb.select(\"label\").rdd.flatMap(lambda x: x).collect()\n",
    "y_pred = predictions_nb.select(\"prediction\").rdd.flatMap(lambda x: x).collect()\n",
    "cm = confusion_matrix(y_true, y_pred)\n",
    "\n",
    "# Plot it\n",
    "disp = ConfusionMatrixDisplay(confusion_matrix=cm)\n",
    "disp.plot(cmap=plt.cm.Reds)\n",
    "plt.title(\"Confusion Matrix for Naive Bayes\")\n",
    "plt.show()\n"
   ]
  },
  {
   "cell_type": "code",
   "execution_count": 77,
   "id": "8a47e1db-0725-4566-ad58-7d0cb13f4729",
   "metadata": {},
   "outputs": [
    {
     "name": "stdout",
     "output_type": "stream",
     "text": [
      " Parameters best for Naive Bayes after fine tunning:\n",
      "  • smoothing: 1.5\n",
      "  • Type of model: multinomial\n"
     ]
    }
   ],
   "source": [
    "best_nb_model = cvModel_tip.bestModel\n",
    "\n",
    "print(\" Parameters best for Naive Bayes after fine tunning:\")\n",
    "print(f\"  • smoothing: {best_nb_model.getOrDefault('smoothing')}\")\n",
    "print(f\"  • Type of model: {best_nb_model.getOrDefault('modelType')}\")\n"
   ]
  },
  {
   "cell_type": "code",
   "execution_count": 78,
   "id": "2fd9f6db-848a-4a43-9f43-a81ad757e6f0",
   "metadata": {},
   "outputs": [
    {
     "name": "stderr",
     "output_type": "stream",
     "text": [
      "                                                                                \r"
     ]
    }
   ],
   "source": [
    "nb_model.write().overwrite().save(\"/Users/pratikaher01/Documents/dic_project/CSE587Project/saved_models/naive_bayes_model\")"
   ]
  },
  {
   "cell_type": "code",
   "execution_count": 79,
   "id": "ebfbec6a-6c82-42ac-be55-bce24797920c",
   "metadata": {},
   "outputs": [],
   "source": [
    "with open(\"/Users/pratikaher01/Documents/dic_project/CSE587Project/outputs/metrics/nb_accuracy.txt\", \"w\") as f:\n",
    "    f.write(f\"Naive Bayes Accuracy: {accuracy_nb:.2f}\")"
   ]
  },
  {
   "cell_type": "code",
   "execution_count": 80,
   "id": "77a2635f-fab6-4108-81a3-9b2d8b853322",
   "metadata": {},
   "outputs": [
    {
     "name": "stderr",
     "output_type": "stream",
     "text": [
      "25/04/28 23:04:30 WARN MemoryManager: Total allocation exceeds 95.00% (1,020,054,720 bytes) of heap memory\n",
      "Scaling row group sizes to 95.00% for 8 writers\n",
      "25/04/28 23:04:30 WARN MemoryManager: Total allocation exceeds 95.00% (1,020,054,720 bytes) of heap memory\n",
      "Scaling row group sizes to 84.44% for 9 writers\n",
      "25/04/28 23:04:30 WARN MemoryManager: Total allocation exceeds 95.00% (1,020,054,720 bytes) of heap memory\n",
      "Scaling row group sizes to 76.00% for 10 writers\n",
      "25/04/28 23:04:30 WARN MemoryManager: Total allocation exceeds 95.00% (1,020,054,720 bytes) of heap memory\n",
      "Scaling row group sizes to 69.09% for 11 writers\n",
      "25/04/28 23:04:33 WARN MemoryManager: Total allocation exceeds 95.00% (1,020,054,720 bytes) of heap memory\n",
      "Scaling row group sizes to 76.00% for 10 writers\n",
      "25/04/28 23:04:33 WARN MemoryManager: Total allocation exceeds 95.00% (1,020,054,720 bytes) of heap memory\n",
      "Scaling row group sizes to 84.44% for 9 writers\n",
      "25/04/28 23:04:33 WARN MemoryManager: Total allocation exceeds 95.00% (1,020,054,720 bytes) of heap memory\n",
      "Scaling row group sizes to 95.00% for 8 writers\n",
      "                                                                                \r"
     ]
    }
   ],
   "source": [
    "predictions_nb.write.mode(\"overwrite\").parquet(\"/Users/pratikaher01/Documents/dic_project/CSE587Project/outputs/nb_predictions.parquet\")"
   ]
  },
  {
   "cell_type": "markdown",
   "id": "f460279f-08f6-4638-a829-7a54f158a9de",
   "metadata": {},
   "source": [
    "# Using DBSCAN to predict whether a Trip will include a Tip"
   ]
  },
  {
   "cell_type": "code",
   "execution_count": 82,
   "id": "78d08fa1-a44b-4e07-8b2e-d48a0cfff8e0",
   "metadata": {},
   "outputs": [
    {
     "name": "stderr",
     "output_type": "stream",
     "text": [
      "                                                                                \r"
     ]
    }
   ],
   "source": [
    "sample_data=  data.select(\"trip_distance\" , \"fare_amount\", \"tip_amount\").sample(fraction=0.01).toPandas()"
   ]
  },
  {
   "cell_type": "code",
   "execution_count": 83,
   "id": "0da6d1de-d35b-4200-bc4d-c0145ac9391e",
   "metadata": {},
   "outputs": [],
   "source": [
    "scaler  = StandardScaler()"
   ]
  },
  {
   "cell_type": "code",
   "execution_count": 84,
   "id": "26bc82e1-34fc-4194-b5d6-6c45148d5aac",
   "metadata": {},
   "outputs": [],
   "source": [
    "scaled_features = scaler.fit_transform(sample_data)"
   ]
  },
  {
   "cell_type": "code",
   "execution_count": 85,
   "id": "8c0ae0d6-31d8-449f-bb02-9a1c661a1fd9",
   "metadata": {},
   "outputs": [],
   "source": [
    "thr_ep =0.5\n",
    "dbscan = DBSCAN(eps= thr_ep , min_samples=10)"
   ]
  },
  {
   "cell_type": "code",
   "execution_count": 86,
   "id": "cdddf32e-00dc-47a7-bdc9-b0c22c06008b",
   "metadata": {},
   "outputs": [],
   "source": [
    "clusters = dbscan.fit_predict(scaled_features)"
   ]
  },
  {
   "cell_type": "code",
   "execution_count": 87,
   "id": "dbf6f1d8-2a6a-476a-8acb-39d70a90bfc9",
   "metadata": {},
   "outputs": [],
   "source": [
    "eps_values = [0.2, 0.5, 0.8]\n",
    "min_samples_values = [5, 10]"
   ]
  },
  {
   "cell_type": "code",
   "execution_count": 88,
   "id": "58a6fa2b-c5f3-4d07-a3f3-d5fb84c0f7ff",
   "metadata": {},
   "outputs": [],
   "source": [
    "sample_data[\"cluster\"] = clusters"
   ]
  },
  {
   "cell_type": "code",
   "execution_count": 89,
   "id": "dd6ba6f5-ea14-42da-84a0-e02b392b7d1f",
   "metadata": {},
   "outputs": [
    {
     "name": "stdout",
     "output_type": "stream",
     "text": [
      "DBSCAN with eps=0.2, minimum samples=5 => Clusters: 435, Noise Points: 9202\n",
      "DBSCAN with eps=0.2, minimum samples=10 => Clusters: 204, Noise Points: 12645\n",
      "DBSCAN with eps=0.5, minimum samples=5 => Clusters: 203, Noise Points: 4254\n",
      "DBSCAN with eps=0.5, minimum samples=10 => Clusters: 68, Noise Points: 6440\n",
      "DBSCAN with eps=0.8, minimum samples=5 => Clusters: 66, Noise Points: 2156\n",
      "DBSCAN with eps=0.8, minimum samples=10 => Clusters: 27, Noise Points: 3265\n"
     ]
    }
   ],
   "source": [
    "for eps in eps_values:\n",
    "    for min_samples in min_samples_values:\n",
    "        dbscan = DBSCAN(eps=eps, min_samples=min_samples)\n",
    "        labels = dbscan.fit_predict(sample_data)\n",
    "        n_clusters = len(set(labels)) - (1 if -1 in labels else 0)\n",
    "        n_noise = list(labels).count(-1)\n",
    "        print(f\"DBSCAN with eps={eps}, minimum samples={min_samples} => Clusters: {n_clusters}, Noise Points: {n_noise}\")\n"
   ]
  },
  {
   "cell_type": "code",
   "execution_count": 90,
   "id": "983c0705-ee1a-4d5e-aee1-1600e5249404",
   "metadata": {},
   "outputs": [
    {
     "data": {
      "image/png": "[encoded data removed]",
      "text/plain": [
       "<Figure size 1000x600 with 1 Axes>"
      ]
     },
     "metadata": {},
     "output_type": "display_data"
    }
   ],
   "source": [
    "plt.figure(figsize=  (10,6))\n",
    "sns.scatterplot(x= sample_data[\"trip_distance\"] , y= sample_data[\"fare_amount\"], hue =sample_data[\"cluster\"] , palette=\"tab10\")\n",
    "plt.title(\"Clustering of DBSCAN for NYC Taxi Trips\")\n",
    "plt.xlabel(\"Trip Distance in miles\")\n",
    "plt.ylabel(\" Fare Amount in dollars \")\n",
    "plt.show()"
   ]
  },
  {
   "cell_type": "code",
   "execution_count": 91,
   "id": "1b7c1cf7-715a-49fc-8939-cfef21adc299",
   "metadata": {},
   "outputs": [],
   "source": [
    "import pickle\n",
    "with open('/Users/pratikaher01/Documents/dic_project/CSE587Project/saved_models/dbscan_model.pkl', 'wb') as f:\n",
    "    pickle.dump(dbscan, f)\n"
   ]
  },
  {
   "cell_type": "markdown",
   "id": "5702a02c-3251-406a-a3b5-a08f1848cee4",
   "metadata": {},
   "source": [
    "# Using Multinomial Logistic Regression to Predict Payment Type "
   ]
  },
  {
   "cell_type": "code",
   "execution_count": 93,
   "id": "14307156-a92a-4acc-867c-42525513bc55",
   "metadata": {},
   "outputs": [],
   "source": [
    "assembler = VectorAssembler(\n",
    "    inputCols= [\"trip_distance\", \"fare_amount\" , \"tip_amount\"],\n",
    "    outputCol=\"features_unscaled\"\n",
    ")"
   ]
  },
  {
   "cell_type": "code",
   "execution_count": 94,
   "id": "aa765828-f057-4d59-95c0-ff8af9bbae9c",
   "metadata": {},
   "outputs": [],
   "source": [
    "assembled= assembler.transform(data)\n",
    "assembled =  assembled.dropna(subset=[\"payment_type\"])"
   ]
  },
  {
   "cell_type": "code",
   "execution_count": 95,
   "id": "1f6ed9a6-387c-4ec8-a0d3-6dac0d2dedb3",
   "metadata": {},
   "outputs": [],
   "source": [
    "from pyspark.ml.feature import StandardScaler\n",
    "\n",
    "scaler = StandardScaler(\n",
    "    inputCol=\"features_unscaled\",    \n",
    "    outputCol=\"scaled_features\",\n",
    "    withStd=True,\n",
    "    withMean=False\n",
    ")\n"
   ]
  },
  {
   "cell_type": "code",
   "execution_count": 96,
   "id": "18f60556-7c94-4b02-a4f5-1b0a0c2c4010",
   "metadata": {},
   "outputs": [
    {
     "name": "stderr",
     "output_type": "stream",
     "text": [
      "                                                                                \r"
     ]
    }
   ],
   "source": [
    "scaler_model = scaler.fit(assembled)\n",
    "assembled = scaler_model.transform(assembled)\n"
   ]
  },
  {
   "cell_type": "code",
   "execution_count": 97,
   "id": "3db8fe15-861c-41d6-8033-c64d09226be1",
   "metadata": {},
   "outputs": [],
   "source": [
    "train_data, test_data= assembled.randomSplit([0.7, 0.3], seed=42)\n"
   ]
  },
  {
   "cell_type": "code",
   "execution_count": 98,
   "id": "b3cd07b7-82aa-4475-b94e-ccdfe77495ff",
   "metadata": {},
   "outputs": [],
   "source": [
    "\n",
    "train_data = train_data.withColumn(\"scaled_features_array\", vector_to_array(\"scaled_features\"))\n",
    "\n",
    "test_data =test_data.withColumn(\"scaled_features_array\", vector_to_array(\"scaled_features\"))\n",
    "\n",
    "train_data =train_data.filter((array_max(\"scaled_features_array\") != 0) | (array_min(\"scaled_features_array\") != 0))\n",
    "\n",
    "\n",
    "test_data= test_data.filter((array_max(\"scaled_features_array\") != 0) | (array_min(\"scaled_features_array\") != 0))\n"
   ]
  },
  {
   "cell_type": "code",
   "execution_count": 99,
   "id": "bd51d950-122e-433a-8fdf-6428c4b5a624",
   "metadata": {},
   "outputs": [],
   "source": [
    "\n",
    "lr = LogisticRegression(\n",
    "    labelCol=\"payment_type\",\n",
    "    featuresCol=\"scaled_features\",  \n",
    "    family=\"multinomial\"\n",
    ")"
   ]
  },
  {
   "cell_type": "code",
   "execution_count": 100,
   "id": "cb018b6f-87fb-4d7d-99dd-c9854715868e",
   "metadata": {},
   "outputs": [],
   "source": [
    "paramGrid_lr = ParamGridBuilder() \\\n",
    "    .addGrid(lr.elasticNetParam, [0.0, 0.5, 1.0]) \\\n",
    "    .addGrid(lr.regParam, [0.01, 0.1, 1.0]) \\\n",
    "    .build()"
   ]
  },
  {
   "cell_type": "code",
   "execution_count": 101,
   "id": "4d2612c5-d007-4627-aa89-c145a9262736",
   "metadata": {},
   "outputs": [],
   "source": [
    "crossval_lr = CrossValidator(\n",
    "    estimator=lr,\n",
    "    estimatorParamMaps=paramGrid_lr,\n",
    "    evaluator=MulticlassClassificationEvaluator(labelCol=\"payment_type\", metricName=\"accuracy\"),\n",
    "    numFolds=3\n",
    ")"
   ]
  },
  {
   "cell_type": "code",
   "execution_count": 102,
   "id": "e874797c-438c-4100-8695-aaea22899ee8",
   "metadata": {},
   "outputs": [],
   "source": [
    "train_data= train_data.sample(fraction=0.1, seed=42)  # 10% of training data"
   ]
  },
  {
   "cell_type": "code",
   "execution_count": 103,
   "id": "e8d29832-f56b-46e7-82d2-19b42c3843ca",
   "metadata": {},
   "outputs": [
    {
     "name": "stderr",
     "output_type": "stream",
     "text": [
      "                                                                                \r"
     ]
    }
   ],
   "source": [
    "cvModel_payment =crossval_lr.fit(train_data)"
   ]
  },
  {
   "cell_type": "code",
   "execution_count": 104,
   "id": "d7e6f1d7-d799-459e-90f2-519b93d3894e",
   "metadata": {},
   "outputs": [
    {
     "name": "stderr",
     "output_type": "stream",
     "text": [
      "[Stage 2368:====================>                                  (4 + 7) / 11]\r"
     ]
    },
    {
     "name": "stdout",
     "output_type": "stream",
     "text": [
      "  Payment Type Prediction Accuracy using Cross Validation: 0.85\n"
     ]
    },
    {
     "name": "stderr",
     "output_type": "stream",
     "text": [
      "                                                                                \r"
     ]
    }
   ],
   "source": [
    "predictions_payment_cv = cvModel_payment.transform(test_data)\n",
    "evaluator_payment= MulticlassClassificationEvaluator(labelCol=\"payment_type\", metricName=\"accuracy\")\n",
    "accuracy_payment_cv = evaluator_payment.evaluate(predictions_payment_cv)\n",
    "print(f\"  Payment Type Prediction Accuracy using Cross Validation: {accuracy_payment_cv:.2f}\")"
   ]
  },
  {
   "cell_type": "code",
   "execution_count": 105,
   "id": "3f623d7b-f95b-4a4b-84a0-b739d374b44d",
   "metadata": {},
   "outputs": [
    {
     "name": "stderr",
     "output_type": "stream",
     "text": [
      "[Stage 2370:====>                                                 (1 + 10) / 11]\r"
     ]
    },
    {
     "name": "stdout",
     "output_type": "stream",
     "text": [
      " Accuracy of Logistic Regression Model After Tuning: 0.85\n"
     ]
    },
    {
     "name": "stderr",
     "output_type": "stream",
     "text": [
      "                                                                                \r"
     ]
    }
   ],
   "source": [
    "evaluator_accuracy = MulticlassClassificationEvaluator(labelCol=\"payment_type\", predictionCol=\"prediction\", metricName=\"accuracy\")\n",
    "accuracy_lr_cv =evaluator_accuracy.evaluate(predictions_payment_cv)\n",
    "print(f\" Accuracy of Logistic Regression Model After Tuning: {accuracy_lr_cv:.2f}\")\n"
   ]
  },
  {
   "cell_type": "code",
   "execution_count": 106,
   "id": "db68c73a-8090-4c3f-9b7d-aab2eed652e8",
   "metadata": {},
   "outputs": [
    {
     "name": "stderr",
     "output_type": "stream",
     "text": [
      "[Stage 2372:==========>                                            (2 + 9) / 11]\r"
     ]
    },
    {
     "name": "stdout",
     "output_type": "stream",
     "text": [
      "Logistic Regression Model F1 Score After Tuning: 0.82\n"
     ]
    },
    {
     "name": "stderr",
     "output_type": "stream",
     "text": [
      "                                                                                \r"
     ]
    }
   ],
   "source": [
    "evaluator_f1 = MulticlassClassificationEvaluator(labelCol=\"payment_type\", predictionCol=\"prediction\", metricName=\"f1\")\n",
    "f1_lr_cv =evaluator_f1.evaluate(predictions_payment_cv)\n",
    "print(f\"Logistic Regression Model F1 Score After Tuning: {f1_lr_cv:.2f}\")"
   ]
  },
  {
   "cell_type": "code",
   "execution_count": 107,
   "id": "8f563acd-f425-496d-bbbf-d36efc119073",
   "metadata": {},
   "outputs": [
    {
     "name": "stderr",
     "output_type": "stream",
     "text": [
      "[Stage 2374:===============>                                       (3 + 8) / 11]\r"
     ]
    },
    {
     "name": "stdout",
     "output_type": "stream",
     "text": [
      "Logistic Regression Model Precision After Tuning: 0.80\n"
     ]
    },
    {
     "name": "stderr",
     "output_type": "stream",
     "text": [
      "                                                                                \r"
     ]
    }
   ],
   "source": [
    "evaluator_precision = MulticlassClassificationEvaluator(labelCol=\"payment_type\", predictionCol=\"prediction\", metricName=\"weightedPrecision\")\n",
    "precision_lr_cv  = evaluator_precision.evaluate(predictions_payment_cv)\n",
    "print(f\"Logistic Regression Model Precision After Tuning: {precision_lr_cv:.2f}\")"
   ]
  },
  {
   "cell_type": "code",
   "execution_count": 108,
   "id": "09eb32ea-9f7f-4cc9-93ea-0ca71261724a",
   "metadata": {},
   "outputs": [
    {
     "name": "stderr",
     "output_type": "stream",
     "text": [
      "[Stage 2376:===============>                                       (3 + 8) / 11]\r"
     ]
    },
    {
     "name": "stdout",
     "output_type": "stream",
     "text": [
      "Logistic Regression Model Recall After Tuning: 0.85\n"
     ]
    },
    {
     "name": "stderr",
     "output_type": "stream",
     "text": [
      "                                                                                \r"
     ]
    }
   ],
   "source": [
    "evaluator_recall  =  MulticlassClassificationEvaluator(labelCol=\"payment_type\", predictionCol=\"prediction\", metricName=\"weightedRecall\")\n",
    "recall_lr_cv  = evaluator_recall.evaluate(predictions_payment_cv)\n",
    "print(f\"Logistic Regression Model Recall After Tuning: {recall_lr_cv:.2f}\")"
   ]
  },
  {
   "cell_type": "code",
   "execution_count": 109,
   "id": "8189820e-60a8-47bf-91ce-480ffa3f0f48",
   "metadata": {},
   "outputs": [
    {
     "name": "stderr",
     "output_type": "stream",
     "text": [
      "                                                                                \r"
     ]
    }
   ],
   "source": [
    "lr_model =  lr.fit(train_data)"
   ]
  },
  {
   "cell_type": "code",
   "execution_count": 110,
   "id": "36f8d57b-a84f-4e91-989a-3f3477c57e5d",
   "metadata": {},
   "outputs": [],
   "source": [
    "predictions_lr = lr_model.transform(test_data)"
   ]
  },
  {
   "cell_type": "code",
   "execution_count": 111,
   "id": "3f31f73e-ebf4-4063-9a78-1d30a3b96b36",
   "metadata": {},
   "outputs": [
    {
     "name": "stderr",
     "output_type": "stream",
     "text": [
      "[Stage 2564:>                                                       (0 + 1) / 1]\r"
     ]
    },
    {
     "name": "stdout",
     "output_type": "stream",
     "text": [
      "+------------+----------+--------------------+\n",
      "|payment_type|prediction|         probability|\n",
      "+------------+----------+--------------------+\n",
      "|           1|       1.0|[0.04693365397223...|\n",
      "|           1|       2.0|[0.20057938570162...|\n",
      "|           2|       2.0|[0.10560870697622...|\n",
      "|           1|       1.0|[0.06159476862666...|\n",
      "|           1|       2.0|[0.28343647886750...|\n",
      "|           1|       2.0|[0.20470125613239...|\n",
      "|           1|       2.0|[0.16007087741439...|\n",
      "|           1|       1.0|[5.75438312151486...|\n",
      "|           2|       2.0|[0.10922963848495...|\n",
      "|           1|       1.0|[0.07764717055542...|\n",
      "+------------+----------+--------------------+\n",
      "only showing top 10 rows\n",
      "\n"
     ]
    },
    {
     "name": "stderr",
     "output_type": "stream",
     "text": [
      "                                                                                \r"
     ]
    }
   ],
   "source": [
    "predictions_lr.select(\"payment_type\", \"prediction\", \"probability\").show(10)"
   ]
  },
  {
   "cell_type": "code",
   "execution_count": 112,
   "id": "1d56fa4d-3a6c-4035-ae1e-764b2a5f41ca",
   "metadata": {},
   "outputs": [],
   "source": [
    "evaluator = MulticlassClassificationEvaluator(\n",
    "    labelCol=\"payment_type\",\n",
    "    predictionCol=\"prediction\",\n",
    "    metricName=\"accuracy\"\n",
    ")"
   ]
  },
  {
   "cell_type": "code",
   "execution_count": 113,
   "id": "13a3c097-1d28-4855-8780-2b318a08d84f",
   "metadata": {},
   "outputs": [
    {
     "name": "stderr",
     "output_type": "stream",
     "text": [
      "[Stage 2565:==========>                                            (2 + 9) / 11]\r"
     ]
    },
    {
     "name": "stdout",
     "output_type": "stream",
     "text": [
      " Accuracy for model Logistic regression: 0.85\n"
     ]
    },
    {
     "name": "stderr",
     "output_type": "stream",
     "text": [
      "                                                                                \r"
     ]
    }
   ],
   "source": [
    "lr_accuracy = evaluator.evaluate(predictions_lr)\n",
    "print(f\" Accuracy for model Logistic regression: {lr_accuracy:.2f}\")"
   ]
  },
  {
   "cell_type": "code",
   "execution_count": 114,
   "id": "a1242153-63da-4d8c-a2a6-19de2e4332d6",
   "metadata": {},
   "outputs": [
    {
     "name": "stdout",
     "output_type": "stream",
     "text": [
      "Parameters best for Logistic Regression:\n",
      "  reg Param: 0.01\n",
      "  elastic Net Param: 1.0\n",
      "  max Iterations: 100\n"
     ]
    }
   ],
   "source": [
    "best_lr_model = cvModel_payment.bestModel\n",
    "\n",
    "print(\"Parameters best for Logistic Regression:\")\n",
    "\n",
    "\n",
    "print(f\"  reg Param: {best_lr_model.getOrDefault('regParam')}\")\n",
    "\n",
    "print(f\"  elastic Net Param: {best_lr_model.getOrDefault('elasticNetParam')}\")\n",
    "print(f\"  max Iterations: {best_lr_model.getOrDefault('maxIter')}\")\n"
   ]
  },
  {
   "cell_type": "code",
   "execution_count": 126,
   "id": "9b973b7a-db28-4506-8531-0c0b19a7926f",
   "metadata": {},
   "outputs": [
    {
     "name": "stderr",
     "output_type": "stream",
     "text": [
      "                                                                                \r"
     ]
    },
    {
     "data": {
      "image/png": "[encoded data removed]",
      "text/plain": [
       "<Figure size 640x480 with 2 Axes>"
      ]
     },
     "metadata": {},
     "output_type": "display_data"
    }
   ],
   "source": [
    "y_true_lr = predictions_lr.select(\"payment_type\").rdd.flatMap(lambda x: x).collect()\n",
    "y_pred_lr = predictions_lr.select(\"prediction\").rdd.flatMap(lambda x: x).collect()\n",
    "cm = confusion_matrix(y_true, y_pred)\n",
    "\n",
    "# Plot it\n",
    "disp = ConfusionMatrixDisplay(confusion_matrix=cm)\n",
    "disp.plot(cmap=plt.cm.Blues)\n",
    "plt.title(\"Confusion Matrix for Logistic Regression\")\n",
    "plt.show()"
   ]
  },
  {
   "cell_type": "code",
   "execution_count": 120,
   "id": "5ee1a856-226a-4e12-8887-16012514c708",
   "metadata": {},
   "outputs": [],
   "source": [
    "lr_model.write().overwrite().save(\"/Users/pratikaher01/Documents/dic_project/CSE587Project/saved_models/logistic_regression_model\")"
   ]
  },
  {
   "cell_type": "code",
   "execution_count": 122,
   "id": "1bd04db2-9c60-4543-9cd6-f04b83781b63",
   "metadata": {},
   "outputs": [],
   "source": [
    "with open(\"/Users/pratikaher01/Documents/dic_project/CSE587Project/outputs/metrics/lr_accuracy.txt\", \"w\") as f:\n",
    "    f.write(f\"Logistic Regression Accuracy: {lr_accuracy:.2f}\")"
   ]
  },
  {
   "cell_type": "code",
   "execution_count": 124,
   "id": "1243a754-ee23-4edb-986a-74da557846b4",
   "metadata": {},
   "outputs": [
    {
     "name": "stderr",
     "output_type": "stream",
     "text": [
      "25/04/28 23:10:12 WARN MemoryManager: Total allocation exceeds 95.00% (1,020,054,720 bytes) of heap memory\n",
      "Scaling row group sizes to 95.00% for 8 writers\n",
      "25/04/28 23:10:12 WARN MemoryManager: Total allocation exceeds 95.00% (1,020,054,720 bytes) of heap memory\n",
      "Scaling row group sizes to 84.44% for 9 writers\n",
      "25/04/28 23:10:12 WARN MemoryManager: Total allocation exceeds 95.00% (1,020,054,720 bytes) of heap memory\n",
      "Scaling row group sizes to 76.00% for 10 writers\n",
      "25/04/28 23:10:12 WARN MemoryManager: Total allocation exceeds 95.00% (1,020,054,720 bytes) of heap memory\n",
      "Scaling row group sizes to 69.09% for 11 writers\n",
      "25/04/28 23:10:13 WARN MemoryManager: Total allocation exceeds 95.00% (1,020,054,720 bytes) of heap memory\n",
      "Scaling row group sizes to 76.00% for 10 writers\n",
      "25/04/28 23:10:14 WARN MemoryManager: Total allocation exceeds 95.00% (1,020,054,720 bytes) of heap memory\n",
      "Scaling row group sizes to 84.44% for 9 writers\n",
      "25/04/28 23:10:14 WARN MemoryManager: Total allocation exceeds 95.00% (1,020,054,720 bytes) of heap memory\n",
      "Scaling row group sizes to 95.00% for 8 writers\n",
      "                                                                                \r"
     ]
    }
   ],
   "source": [
    "predictions_lr.write.mode(\"overwrite\").parquet(\"/Users/pratikaher01/Documents/dic_project/CSE587Project/outputs/lr_predictions.parquet\")"
   ]
  },
  {
   "cell_type": "code",
   "execution_count": null,
   "id": "07991e10-6d38-40bc-b4aa-c3d6c79736ea",
   "metadata": {},
   "outputs": [],
   "source": []
  }
 ],
 "metadata": {
  "kernelspec": {
   "display_name": "Python 3 (ipykernel)",
   "language": "python",
   "name": "python3"
  },
  "language_info": {
   "codemirror_mode": {
    "name": "ipython",
    "version": 3
   },
   "file_extension": ".py",
   "mimetype": "text/x-python",
   "name": "python",
   "nbconvert_exporter": "python",
   "pygments_lexer": "ipython3",
   "version": "3.12.4"
  }
 },
 "nbformat": 4,
 "nbformat_minor": 5
}
